{
 "cells": [
  {
   "cell_type": "markdown",
   "id": "063b1790",
   "metadata": {},
   "source": [
    "## **File 5 : Deaths Per Month in 4 Years**"
   ]
  },
  {
   "cell_type": "markdown",
   "id": "bc2a7377",
   "metadata": {},
   "source": [
    "Importing the modules"
   ]
  },
  {
   "cell_type": "code",
   "execution_count": 1,
   "id": "cc4fbfc0",
   "metadata": {},
   "outputs": [],
   "source": [
    "import pandas as pd\n",
    "from matplotlib import pyplot as plt\n",
    "import seaborn as sns\n",
    "from matplotlib.ticker import FuncFormatter\n"
   ]
  },
  {
   "cell_type": "markdown",
   "id": "392c755c",
   "metadata": {},
   "source": [
    "Creating a Dataframe"
   ]
  },
  {
   "cell_type": "code",
   "execution_count": 2,
   "id": "2433ce5f",
   "metadata": {},
   "outputs": [],
   "source": [
    "df = pd.read_csv('final.csv')"
   ]
  },
  {
   "cell_type": "markdown",
   "id": "ec7e0312",
   "metadata": {},
   "source": [
    "Cleaning columns"
   ]
  },
  {
   "cell_type": "code",
   "execution_count": 3,
   "id": "d08ef312",
   "metadata": {},
   "outputs": [],
   "source": [
    "df.drop(columns = ['Unnamed: 0.1','Unnamed: 0'],inplace=True)"
   ]
  },
  {
   "cell_type": "markdown",
   "id": "3a221b37",
   "metadata": {},
   "source": [
    "Changing the Datatype to Datetime"
   ]
  },
  {
   "cell_type": "code",
   "execution_count": 4,
   "id": "a6bce84c",
   "metadata": {},
   "outputs": [],
   "source": [
    "df['date'] = pd.to_datetime(df['date'])"
   ]
  },
  {
   "cell_type": "markdown",
   "id": "cbb10879",
   "metadata": {},
   "source": [
    "Creating a new Year_month columns"
   ]
  },
  {
   "cell_type": "code",
   "execution_count": 5,
   "id": "def7fa22",
   "metadata": {},
   "outputs": [],
   "source": [
    "df['year_month'] = df['date'].dt.to_period('M')"
   ]
  },
  {
   "cell_type": "code",
   "execution_count": 6,
   "id": "7fb3ee87",
   "metadata": {},
   "outputs": [],
   "source": [
    "df.to_csv('final2.csv')"
   ]
  },
  {
   "cell_type": "code",
   "execution_count": 7,
   "id": "2e0f9589",
   "metadata": {},
   "outputs": [
    {
     "data": {
      "text/html": [
       "<div>\n",
       "<style scoped>\n",
       "    .dataframe tbody tr th:only-of-type {\n",
       "        vertical-align: middle;\n",
       "    }\n",
       "\n",
       "    .dataframe tbody tr th {\n",
       "        vertical-align: top;\n",
       "    }\n",
       "\n",
       "    .dataframe thead th {\n",
       "        text-align: right;\n",
       "    }\n",
       "</style>\n",
       "<table border=\"1\" class=\"dataframe\">\n",
       "  <thead>\n",
       "    <tr style=\"text-align: right;\">\n",
       "      <th></th>\n",
       "      <th>location</th>\n",
       "      <th>date</th>\n",
       "      <th>total_cases</th>\n",
       "      <th>new_cases</th>\n",
       "      <th>total_deaths</th>\n",
       "      <th>new_deaths</th>\n",
       "      <th>people_vaccinated</th>\n",
       "      <th>people_fully_vaccinated</th>\n",
       "      <th>population</th>\n",
       "      <th>year</th>\n",
       "      <th>year_month</th>\n",
       "    </tr>\n",
       "  </thead>\n",
       "  <tbody>\n",
       "    <tr>\n",
       "      <th>0</th>\n",
       "      <td>United States</td>\n",
       "      <td>2020-01-05</td>\n",
       "      <td>0.0</td>\n",
       "      <td>0.0</td>\n",
       "      <td>0.0</td>\n",
       "      <td>0.0</td>\n",
       "      <td>NaN</td>\n",
       "      <td>NaN</td>\n",
       "      <td>338289856</td>\n",
       "      <td>NaN</td>\n",
       "      <td>2020-01</td>\n",
       "    </tr>\n",
       "    <tr>\n",
       "      <th>1</th>\n",
       "      <td>United States</td>\n",
       "      <td>2020-01-06</td>\n",
       "      <td>0.0</td>\n",
       "      <td>0.0</td>\n",
       "      <td>0.0</td>\n",
       "      <td>0.0</td>\n",
       "      <td>NaN</td>\n",
       "      <td>NaN</td>\n",
       "      <td>338289856</td>\n",
       "      <td>NaN</td>\n",
       "      <td>2020-01</td>\n",
       "    </tr>\n",
       "    <tr>\n",
       "      <th>2</th>\n",
       "      <td>United States</td>\n",
       "      <td>2020-01-07</td>\n",
       "      <td>0.0</td>\n",
       "      <td>0.0</td>\n",
       "      <td>0.0</td>\n",
       "      <td>0.0</td>\n",
       "      <td>NaN</td>\n",
       "      <td>NaN</td>\n",
       "      <td>338289856</td>\n",
       "      <td>NaN</td>\n",
       "      <td>2020-01</td>\n",
       "    </tr>\n",
       "    <tr>\n",
       "      <th>3</th>\n",
       "      <td>United States</td>\n",
       "      <td>2020-01-08</td>\n",
       "      <td>0.0</td>\n",
       "      <td>0.0</td>\n",
       "      <td>0.0</td>\n",
       "      <td>0.0</td>\n",
       "      <td>NaN</td>\n",
       "      <td>NaN</td>\n",
       "      <td>338289856</td>\n",
       "      <td>NaN</td>\n",
       "      <td>2020-01</td>\n",
       "    </tr>\n",
       "    <tr>\n",
       "      <th>4</th>\n",
       "      <td>United States</td>\n",
       "      <td>2020-01-09</td>\n",
       "      <td>0.0</td>\n",
       "      <td>0.0</td>\n",
       "      <td>0.0</td>\n",
       "      <td>0.0</td>\n",
       "      <td>NaN</td>\n",
       "      <td>NaN</td>\n",
       "      <td>338289856</td>\n",
       "      <td>NaN</td>\n",
       "      <td>2020-01</td>\n",
       "    </tr>\n",
       "    <tr>\n",
       "      <th>...</th>\n",
       "      <td>...</td>\n",
       "      <td>...</td>\n",
       "      <td>...</td>\n",
       "      <td>...</td>\n",
       "      <td>...</td>\n",
       "      <td>...</td>\n",
       "      <td>...</td>\n",
       "      <td>...</td>\n",
       "      <td>...</td>\n",
       "      <td>...</td>\n",
       "      <td>...</td>\n",
       "    </tr>\n",
       "    <tr>\n",
       "      <th>24790</th>\n",
       "      <td>China</td>\n",
       "      <td>2024-07-31</td>\n",
       "      <td>99371132.0</td>\n",
       "      <td>0.0</td>\n",
       "      <td>122289.0</td>\n",
       "      <td>0.0</td>\n",
       "      <td>NaN</td>\n",
       "      <td>NaN</td>\n",
       "      <td>1425887360</td>\n",
       "      <td>2024.0</td>\n",
       "      <td>2024-07</td>\n",
       "    </tr>\n",
       "    <tr>\n",
       "      <th>24791</th>\n",
       "      <td>China</td>\n",
       "      <td>2024-08-01</td>\n",
       "      <td>99371132.0</td>\n",
       "      <td>0.0</td>\n",
       "      <td>122289.0</td>\n",
       "      <td>0.0</td>\n",
       "      <td>NaN</td>\n",
       "      <td>NaN</td>\n",
       "      <td>1425887360</td>\n",
       "      <td>2024.0</td>\n",
       "      <td>2024-08</td>\n",
       "    </tr>\n",
       "    <tr>\n",
       "      <th>24792</th>\n",
       "      <td>China</td>\n",
       "      <td>2024-08-02</td>\n",
       "      <td>99371132.0</td>\n",
       "      <td>0.0</td>\n",
       "      <td>122289.0</td>\n",
       "      <td>0.0</td>\n",
       "      <td>NaN</td>\n",
       "      <td>NaN</td>\n",
       "      <td>1425887360</td>\n",
       "      <td>2024.0</td>\n",
       "      <td>2024-08</td>\n",
       "    </tr>\n",
       "    <tr>\n",
       "      <th>24793</th>\n",
       "      <td>China</td>\n",
       "      <td>2024-08-03</td>\n",
       "      <td>99371132.0</td>\n",
       "      <td>0.0</td>\n",
       "      <td>122289.0</td>\n",
       "      <td>0.0</td>\n",
       "      <td>NaN</td>\n",
       "      <td>NaN</td>\n",
       "      <td>1425887360</td>\n",
       "      <td>2024.0</td>\n",
       "      <td>2024-08</td>\n",
       "    </tr>\n",
       "    <tr>\n",
       "      <th>24794</th>\n",
       "      <td>China</td>\n",
       "      <td>2024-08-04</td>\n",
       "      <td>99373219.0</td>\n",
       "      <td>2087.0</td>\n",
       "      <td>122304.0</td>\n",
       "      <td>15.0</td>\n",
       "      <td>NaN</td>\n",
       "      <td>NaN</td>\n",
       "      <td>1425887360</td>\n",
       "      <td>2024.0</td>\n",
       "      <td>2024-08</td>\n",
       "    </tr>\n",
       "  </tbody>\n",
       "</table>\n",
       "<p>24795 rows × 11 columns</p>\n",
       "</div>"
      ],
      "text/plain": [
       "            location       date  total_cases  new_cases  total_deaths  \\\n",
       "0      United States 2020-01-05          0.0        0.0           0.0   \n",
       "1      United States 2020-01-06          0.0        0.0           0.0   \n",
       "2      United States 2020-01-07          0.0        0.0           0.0   \n",
       "3      United States 2020-01-08          0.0        0.0           0.0   \n",
       "4      United States 2020-01-09          0.0        0.0           0.0   \n",
       "...              ...        ...          ...        ...           ...   \n",
       "24790          China 2024-07-31   99371132.0        0.0      122289.0   \n",
       "24791          China 2024-08-01   99371132.0        0.0      122289.0   \n",
       "24792          China 2024-08-02   99371132.0        0.0      122289.0   \n",
       "24793          China 2024-08-03   99371132.0        0.0      122289.0   \n",
       "24794          China 2024-08-04   99373219.0     2087.0      122304.0   \n",
       "\n",
       "       new_deaths  people_vaccinated  people_fully_vaccinated  population  \\\n",
       "0             0.0                NaN                      NaN   338289856   \n",
       "1             0.0                NaN                      NaN   338289856   \n",
       "2             0.0                NaN                      NaN   338289856   \n",
       "3             0.0                NaN                      NaN   338289856   \n",
       "4             0.0                NaN                      NaN   338289856   \n",
       "...           ...                ...                      ...         ...   \n",
       "24790         0.0                NaN                      NaN  1425887360   \n",
       "24791         0.0                NaN                      NaN  1425887360   \n",
       "24792         0.0                NaN                      NaN  1425887360   \n",
       "24793         0.0                NaN                      NaN  1425887360   \n",
       "24794        15.0                NaN                      NaN  1425887360   \n",
       "\n",
       "         year year_month  \n",
       "0         NaN    2020-01  \n",
       "1         NaN    2020-01  \n",
       "2         NaN    2020-01  \n",
       "3         NaN    2020-01  \n",
       "4         NaN    2020-01  \n",
       "...       ...        ...  \n",
       "24790  2024.0    2024-07  \n",
       "24791  2024.0    2024-08  \n",
       "24792  2024.0    2024-08  \n",
       "24793  2024.0    2024-08  \n",
       "24794  2024.0    2024-08  \n",
       "\n",
       "[24795 rows x 11 columns]"
      ]
     },
     "execution_count": 7,
     "metadata": {},
     "output_type": "execute_result"
    }
   ],
   "source": [
    "df"
   ]
  },
  {
   "cell_type": "code",
   "execution_count": 8,
   "id": "e10bace5",
   "metadata": {},
   "outputs": [],
   "source": [
    "df['month_name'] = df['date'].dt.strftime('%b')"
   ]
  },
  {
   "cell_type": "code",
   "execution_count": 9,
   "id": "8203c8c6",
   "metadata": {},
   "outputs": [],
   "source": [
    "df_new_deaths = df.groupby('month_name').agg({\n",
    "    'new_deaths':'sum'\n",
    "})\n"
   ]
  },
  {
   "cell_type": "code",
   "execution_count": 10,
   "id": "825c056e",
   "metadata": {},
   "outputs": [],
   "source": [
    "df_new_deaths.reset_index(inplace = True)"
   ]
  },
  {
   "cell_type": "markdown",
   "id": "cee8c9e7",
   "metadata": {},
   "source": [
    "Getting the month number from month name in order to arrange the months in sequence"
   ]
  },
  {
   "cell_type": "code",
   "execution_count": 11,
   "id": "abc63e40",
   "metadata": {},
   "outputs": [],
   "source": [
    "df_new_deaths['month_no'] = pd.to_datetime(df_new_deaths['month_name'],format = '%b').dt.month"
   ]
  },
  {
   "cell_type": "code",
   "execution_count": 12,
   "id": "f4dd659c",
   "metadata": {},
   "outputs": [],
   "source": [
    "df_new_deaths.sort_values(by = 'month_no',inplace = True)\n"
   ]
  },
  {
   "cell_type": "code",
   "execution_count": 13,
   "id": "e0aa451b",
   "metadata": {},
   "outputs": [
    {
     "data": {
      "text/html": [
       "<div>\n",
       "<style scoped>\n",
       "    .dataframe tbody tr th:only-of-type {\n",
       "        vertical-align: middle;\n",
       "    }\n",
       "\n",
       "    .dataframe tbody tr th {\n",
       "        vertical-align: top;\n",
       "    }\n",
       "\n",
       "    .dataframe thead th {\n",
       "        text-align: right;\n",
       "    }\n",
       "</style>\n",
       "<table border=\"1\" class=\"dataframe\">\n",
       "  <thead>\n",
       "    <tr style=\"text-align: right;\">\n",
       "      <th></th>\n",
       "      <th>month_name</th>\n",
       "      <th>new_deaths</th>\n",
       "    </tr>\n",
       "    <tr>\n",
       "      <th>month_no</th>\n",
       "      <th></th>\n",
       "      <th></th>\n",
       "    </tr>\n",
       "  </thead>\n",
       "  <tbody>\n",
       "    <tr>\n",
       "      <th>1</th>\n",
       "      <td>Jan</td>\n",
       "      <td>486827.0</td>\n",
       "    </tr>\n",
       "    <tr>\n",
       "      <th>2</th>\n",
       "      <td>Feb</td>\n",
       "      <td>419861.0</td>\n",
       "    </tr>\n",
       "    <tr>\n",
       "      <th>3</th>\n",
       "      <td>Mar</td>\n",
       "      <td>283489.0</td>\n",
       "    </tr>\n",
       "    <tr>\n",
       "      <th>4</th>\n",
       "      <td>Apr</td>\n",
       "      <td>359288.0</td>\n",
       "    </tr>\n",
       "    <tr>\n",
       "      <th>5</th>\n",
       "      <td>May</td>\n",
       "      <td>425453.0</td>\n",
       "    </tr>\n",
       "    <tr>\n",
       "      <th>6</th>\n",
       "      <td>Jun</td>\n",
       "      <td>255872.0</td>\n",
       "    </tr>\n",
       "    <tr>\n",
       "      <th>7</th>\n",
       "      <td>Jul</td>\n",
       "      <td>223912.0</td>\n",
       "    </tr>\n",
       "    <tr>\n",
       "      <th>8</th>\n",
       "      <td>Aug</td>\n",
       "      <td>288007.0</td>\n",
       "    </tr>\n",
       "    <tr>\n",
       "      <th>9</th>\n",
       "      <td>Sep</td>\n",
       "      <td>241343.0</td>\n",
       "    </tr>\n",
       "    <tr>\n",
       "      <th>10</th>\n",
       "      <td>Oct</td>\n",
       "      <td>260454.0</td>\n",
       "    </tr>\n",
       "    <tr>\n",
       "      <th>11</th>\n",
       "      <td>Nov</td>\n",
       "      <td>300034.0</td>\n",
       "    </tr>\n",
       "    <tr>\n",
       "      <th>12</th>\n",
       "      <td>Dec</td>\n",
       "      <td>352566.0</td>\n",
       "    </tr>\n",
       "  </tbody>\n",
       "</table>\n",
       "</div>"
      ],
      "text/plain": [
       "         month_name  new_deaths\n",
       "month_no                       \n",
       "1               Jan    486827.0\n",
       "2               Feb    419861.0\n",
       "3               Mar    283489.0\n",
       "4               Apr    359288.0\n",
       "5               May    425453.0\n",
       "6               Jun    255872.0\n",
       "7               Jul    223912.0\n",
       "8               Aug    288007.0\n",
       "9               Sep    241343.0\n",
       "10              Oct    260454.0\n",
       "11              Nov    300034.0\n",
       "12              Dec    352566.0"
      ]
     },
     "execution_count": 13,
     "metadata": {},
     "output_type": "execute_result"
    }
   ],
   "source": [
    "df_new_deaths.set_index('month_no')"
   ]
  },
  {
   "cell_type": "code",
   "execution_count": 14,
   "id": "3c82b976",
   "metadata": {},
   "outputs": [
    {
     "data": {
      "text/plain": [
       "['Solarize_Light2',\n",
       " '_classic_test_patch',\n",
       " '_mpl-gallery',\n",
       " '_mpl-gallery-nogrid',\n",
       " 'bmh',\n",
       " 'classic',\n",
       " 'dark_background',\n",
       " 'fast',\n",
       " 'fivethirtyeight',\n",
       " 'ggplot',\n",
       " 'grayscale',\n",
       " 'petroff10',\n",
       " 'seaborn-v0_8',\n",
       " 'seaborn-v0_8-bright',\n",
       " 'seaborn-v0_8-colorblind',\n",
       " 'seaborn-v0_8-dark',\n",
       " 'seaborn-v0_8-dark-palette',\n",
       " 'seaborn-v0_8-darkgrid',\n",
       " 'seaborn-v0_8-deep',\n",
       " 'seaborn-v0_8-muted',\n",
       " 'seaborn-v0_8-notebook',\n",
       " 'seaborn-v0_8-paper',\n",
       " 'seaborn-v0_8-pastel',\n",
       " 'seaborn-v0_8-poster',\n",
       " 'seaborn-v0_8-talk',\n",
       " 'seaborn-v0_8-ticks',\n",
       " 'seaborn-v0_8-white',\n",
       " 'seaborn-v0_8-whitegrid',\n",
       " 'tableau-colorblind10']"
      ]
     },
     "execution_count": 14,
     "metadata": {},
     "output_type": "execute_result"
    }
   ],
   "source": [
    "plt.style.available"
   ]
  },
  {
   "cell_type": "markdown",
   "id": "e391c6df",
   "metadata": {},
   "source": [
    "**Plotting the Data**"
   ]
  },
  {
   "cell_type": "code",
   "execution_count": 16,
   "id": "7db8f85b",
   "metadata": {},
   "outputs": [
    {
     "data": {
      "image/png": "[encoded data removed]",
      "text/plain": [
       "<Figure size 1000x600 with 1 Axes>"
      ]
     },
     "metadata": {},
     "output_type": "display_data"
    }
   ],
   "source": [
    "plt.style.use('seaborn-v0_8-paper')\n",
    "plt.figure(figsize=(10,6))\n",
    "sns.lineplot(data = df_new_deaths,x = 'month_name', y ='new_deaths',color = 'red',marker = 'o')\n",
    "sns.set_style('darkgrid')\n",
    "plt.title('Deaths Per Month 2020-24',fontsize = 15,fontfamily = 'fantasy')\n",
    "plt.gca().yaxis.set_major_formatter(FuncFormatter(lambda x,_ :f'{int(x):,}'))\n",
    "plt.xlabel('Names of the Month',fontsize = 10,fontweight = 'bold',fontfamily = 'Georgia')\n",
    "plt.ylabel('Number of Cases',fontsize = 10,fontweight = 'bold',fontfamily = 'Georgia')\n",
    "plt.xticks(fontsize = 10,fontfamily = 'Georgia')\n",
    "plt.yticks(fontsize = 10,fontfamily = 'Georgia')\n",
    "plt.show()"
   ]
  }
 ],
 "metadata": {
  "kernelspec": {
   "display_name": "Python 3",
   "language": "python",
   "name": "python3"
  },
  "language_info": {
   "codemirror_mode": {
    "name": "ipython",
    "version": 3
   },
   "file_extension": ".py",
   "mimetype": "text/x-python",
   "name": "python",
   "nbconvert_exporter": "python",
   "pygments_lexer": "ipython3",
   "version": "3.13.5"
  }
 },
 "nbformat": 4,
 "nbformat_minor": 5
}
