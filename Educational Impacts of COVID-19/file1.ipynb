{
 "cells": [
  {
   "cell_type": "markdown",
   "id": "73b6eb2b",
   "metadata": {},
   "source": [
    "### **Exploring the Data**"
   ]
  },
  {
   "cell_type": "markdown",
   "id": "9e91da6f",
   "metadata": {},
   "source": [
    "In analysis we will explore that how covid 19 affected the school and collages in each country and help us to understand its consequenses"
   ]
  },
  {
   "cell_type": "markdown",
   "id": "c35be5d0",
   "metadata": {},
   "source": [
    "**Creating a Dataframe of the Data**"
   ]
  },
  {
   "cell_type": "code",
   "execution_count": 1,
   "id": "df8be5b6",
   "metadata": {},
   "outputs": [],
   "source": [
    "import pandas as pd\n",
    "import seaborn as sns\n",
    "from matplotlib import pyplot as plt"
   ]
  },
  {
   "cell_type": "code",
   "execution_count": 2,
   "id": "abace97c",
   "metadata": {},
   "outputs": [],
   "source": [
    "df = pd.read_csv('C:\\\\Users\\\\Pallav\\\\Desktop\\\\COVID-19 DATASET\\\\Datasets\\\\Education.csv')"
   ]
  },
  {
   "cell_type": "code",
   "execution_count": 3,
   "id": "979ddbea",
   "metadata": {},
   "outputs": [],
   "source": [
    "df.drop(columns = 'Note',inplace=True)"
   ]
  },
  {
   "cell_type": "code",
   "execution_count": 4,
   "id": "b1b599af",
   "metadata": {},
   "outputs": [
    {
     "data": {
      "text/html": [
       "<div>\n",
       "<style scoped>\n",
       "    .dataframe tbody tr th:only-of-type {\n",
       "        vertical-align: middle;\n",
       "    }\n",
       "\n",
       "    .dataframe tbody tr th {\n",
       "        vertical-align: top;\n",
       "    }\n",
       "\n",
       "    .dataframe thead th {\n",
       "        text-align: right;\n",
       "    }\n",
       "</style>\n",
       "<table border=\"1\" class=\"dataframe\">\n",
       "  <thead>\n",
       "    <tr style=\"text-align: right;\">\n",
       "      <th></th>\n",
       "      <th>Date</th>\n",
       "      <th>ISO</th>\n",
       "      <th>Country</th>\n",
       "      <th>Status</th>\n",
       "    </tr>\n",
       "  </thead>\n",
       "  <tbody>\n",
       "    <tr>\n",
       "      <th>0</th>\n",
       "      <td>16/02/2020</td>\n",
       "      <td>ABW</td>\n",
       "      <td>Aruba</td>\n",
       "      <td>Fully open</td>\n",
       "    </tr>\n",
       "    <tr>\n",
       "      <th>1</th>\n",
       "      <td>16/02/2020</td>\n",
       "      <td>AFG</td>\n",
       "      <td>Afghanistan</td>\n",
       "      <td>Fully open</td>\n",
       "    </tr>\n",
       "    <tr>\n",
       "      <th>2</th>\n",
       "      <td>16/02/2020</td>\n",
       "      <td>AGO</td>\n",
       "      <td>Angola</td>\n",
       "      <td>Fully open</td>\n",
       "    </tr>\n",
       "    <tr>\n",
       "      <th>3</th>\n",
       "      <td>16/02/2020</td>\n",
       "      <td>AIA</td>\n",
       "      <td>Anguilla</td>\n",
       "      <td>Fully open</td>\n",
       "    </tr>\n",
       "    <tr>\n",
       "      <th>4</th>\n",
       "      <td>16/02/2020</td>\n",
       "      <td>ALB</td>\n",
       "      <td>Albania</td>\n",
       "      <td>Fully open</td>\n",
       "    </tr>\n",
       "    <tr>\n",
       "      <th>...</th>\n",
       "      <td>...</td>\n",
       "      <td>...</td>\n",
       "      <td>...</td>\n",
       "      <td>...</td>\n",
       "    </tr>\n",
       "    <tr>\n",
       "      <th>131035</th>\n",
       "      <td>31/10/2021</td>\n",
       "      <td>WSM</td>\n",
       "      <td>Samoa</td>\n",
       "      <td>Fully open</td>\n",
       "    </tr>\n",
       "    <tr>\n",
       "      <th>131036</th>\n",
       "      <td>31/10/2021</td>\n",
       "      <td>YEM</td>\n",
       "      <td>Yemen</td>\n",
       "      <td>Fully open</td>\n",
       "    </tr>\n",
       "    <tr>\n",
       "      <th>131037</th>\n",
       "      <td>31/10/2021</td>\n",
       "      <td>ZAF</td>\n",
       "      <td>South Africa</td>\n",
       "      <td>Partially open</td>\n",
       "    </tr>\n",
       "    <tr>\n",
       "      <th>131038</th>\n",
       "      <td>31/10/2021</td>\n",
       "      <td>ZMB</td>\n",
       "      <td>Zambia</td>\n",
       "      <td>Fully open</td>\n",
       "    </tr>\n",
       "    <tr>\n",
       "      <th>131039</th>\n",
       "      <td>31/10/2021</td>\n",
       "      <td>ZWE</td>\n",
       "      <td>Zimbabwe</td>\n",
       "      <td>Fully open</td>\n",
       "    </tr>\n",
       "  </tbody>\n",
       "</table>\n",
       "<p>131040 rows × 4 columns</p>\n",
       "</div>"
      ],
      "text/plain": [
       "              Date  ISO       Country          Status\n",
       "0       16/02/2020  ABW         Aruba      Fully open\n",
       "1       16/02/2020  AFG   Afghanistan      Fully open\n",
       "2       16/02/2020  AGO        Angola      Fully open\n",
       "3       16/02/2020  AIA      Anguilla      Fully open\n",
       "4       16/02/2020  ALB       Albania      Fully open\n",
       "...            ...  ...           ...             ...\n",
       "131035  31/10/2021  WSM         Samoa      Fully open\n",
       "131036  31/10/2021  YEM         Yemen      Fully open\n",
       "131037  31/10/2021  ZAF  South Africa  Partially open\n",
       "131038  31/10/2021  ZMB        Zambia      Fully open\n",
       "131039  31/10/2021  ZWE      Zimbabwe      Fully open\n",
       "\n",
       "[131040 rows x 4 columns]"
      ]
     },
     "execution_count": 4,
     "metadata": {},
     "output_type": "execute_result"
    }
   ],
   "source": [
    "df"
   ]
  },
  {
   "cell_type": "markdown",
   "id": "39a902f8",
   "metadata": {},
   "source": [
    "Converting the Date column into Datetime"
   ]
  },
  {
   "cell_type": "code",
   "execution_count": 5,
   "id": "71b4c8af",
   "metadata": {},
   "outputs": [
    {
     "name": "stderr",
     "output_type": "stream",
     "text": [
      "C:\\Users\\Pallav\\AppData\\Local\\Temp\\ipykernel_5052\\2394721818.py:1: UserWarning: Parsing dates in %d/%m/%Y format when dayfirst=False (the default) was specified. Pass `dayfirst=True` or specify a format to silence this warning.\n",
      "  df['Date'] = pd.to_datetime(df['Date'])\n"
     ]
    }
   ],
   "source": [
    "df['Date'] = pd.to_datetime(df['Date'])"
   ]
  },
  {
   "cell_type": "markdown",
   "id": "1d3f8381",
   "metadata": {},
   "source": [
    "Sorting out the Data only for the Days When The Schools Where Fully open"
   ]
  },
  {
   "cell_type": "code",
   "execution_count": 6,
   "id": "904e2482",
   "metadata": {},
   "outputs": [],
   "source": [
    "df_fully_open = df[df['Status'] == 'Fully open']"
   ]
  },
  {
   "cell_type": "markdown",
   "id": "ec8dfa30",
   "metadata": {},
   "source": [
    "Adding year and month column to make grouping the data more simple"
   ]
  },
  {
   "cell_type": "code",
   "execution_count": 7,
   "id": "1115a912",
   "metadata": {},
   "outputs": [
    {
     "name": "stderr",
     "output_type": "stream",
     "text": [
      "C:\\Users\\Pallav\\AppData\\Local\\Temp\\ipykernel_5052\\3719974359.py:1: SettingWithCopyWarning: \n",
      "A value is trying to be set on a copy of a slice from a DataFrame.\n",
      "Try using .loc[row_indexer,col_indexer] = value instead\n",
      "\n",
      "See the caveats in the documentation: https://pandas.pydata.org/pandas-docs/stable/user_guide/indexing.html#returning-a-view-versus-a-copy\n",
      "  df_fully_open['Month_no'] = df_fully_open['Date'].dt.month\n",
      "C:\\Users\\Pallav\\AppData\\Local\\Temp\\ipykernel_5052\\3719974359.py:2: SettingWithCopyWarning: \n",
      "A value is trying to be set on a copy of a slice from a DataFrame.\n",
      "Try using .loc[row_indexer,col_indexer] = value instead\n",
      "\n",
      "See the caveats in the documentation: https://pandas.pydata.org/pandas-docs/stable/user_guide/indexing.html#returning-a-view-versus-a-copy\n",
      "  df_fully_open['Year'] = df_fully_open['Date'].dt.year\n"
     ]
    }
   ],
   "source": [
    "df_fully_open['Month_no'] = df_fully_open['Date'].dt.month\n",
    "df_fully_open['Year'] = df_fully_open['Date'].dt.year"
   ]
  },
  {
   "cell_type": "markdown",
   "id": "489cc2d9",
   "metadata": {},
   "source": [
    "Sorting the Data for Year 2020"
   ]
  },
  {
   "cell_type": "code",
   "execution_count": 11,
   "id": "b71be1b4",
   "metadata": {},
   "outputs": [],
   "source": [
    "df_fully_open_2020 = df_fully_open[df_fully_open['Year'] == 2020]"
   ]
  },
  {
   "cell_type": "code",
   "execution_count": 15,
   "id": "c7d2686b",
   "metadata": {},
   "outputs": [
    {
     "data": {
      "text/plain": [
       "Date\n",
       "2020-02-16    207\n",
       "2020-02-20    207\n",
       "2020-02-17    207\n",
       "2020-02-18    207\n",
       "2020-02-19    207\n",
       "             ... \n",
       "2020-04-13      5\n",
       "2020-04-02      5\n",
       "2020-04-12      4\n",
       "2020-04-11      4\n",
       "2020-04-10      4\n",
       "Name: count, Length: 320, dtype: int64"
      ]
     },
     "execution_count": 15,
     "metadata": {},
     "output_type": "execute_result"
    }
   ],
   "source": [
    "df_fully_open_2020['Date'].value_counts()"
   ]
  },
  {
   "cell_type": "code",
   "execution_count": 18,
   "id": "6ff79a4a",
   "metadata": {},
   "outputs": [],
   "source": [
    "df_pivot_table = df_fully_open_2020.pivot_table(index = 'Country',columns = 'Month_no',values = 'Status',aggfunc='size')"
   ]
  },
  {
   "cell_type": "code",
   "execution_count": 21,
   "id": "3a93fd08",
   "metadata": {},
   "outputs": [],
   "source": [
    "df_pivot_table = df_pivot_table.fillna(0)"
   ]
  },
  {
   "cell_type": "markdown",
   "id": "6222f9e8",
   "metadata": {},
   "source": [
    "Sorting the Data only for the 8 countries"
   ]
  },
  {
   "cell_type": "code",
   "execution_count": 26,
   "id": "a6d01c3e",
   "metadata": {},
   "outputs": [],
   "source": [
    "selected_country = ['Brazil','Mexico', 'Italy', 'France', 'Germany', 'Colombia', 'Argentina','India','China']"
   ]
  },
  {
   "cell_type": "code",
   "execution_count": 27,
   "id": "82042d47",
   "metadata": {},
   "outputs": [],
   "source": [
    "subset = df_pivot_table.loc[selected_country]"
   ]
  },
  {
   "cell_type": "code",
   "execution_count": 41,
   "id": "c58b72bb",
   "metadata": {},
   "outputs": [
    {
     "data": {
      "text/plain": [
       "Text(0.5, 0.98, 'Number of Days Institues were Fully open in Year 2020')"
      ]
     },
     "execution_count": 41,
     "metadata": {},
     "output_type": "execute_result"
    },
    {
     "data": {
      "image/png": "[encoded data removed]",
      "text/plain": [
       "<Figure size 640x480 with 2 Axes>"
      ]
     },
     "metadata": {},
     "output_type": "display_data"
    }
   ],
   "source": [
    "sns.heatmap(subset,annot = True,linewidths=.5,cmap = 'vlag')\n",
    "plt.xlabel('Number of Months in Year(2020)')\n",
    "plt.ylabel('')\n",
    "plt.suptitle(\"Number of Days Institues were Fully open in Year 2020\")\n",
    "\n"
   ]
  },
  {
   "cell_type": "markdown",
   "id": "37ce354b",
   "metadata": {},
   "source": [
    "The final result—the heatmap you provided—shows the **number of days schools were fully open in each month of 2020 for selected countries**. \n",
    "\n",
    "### Key Insights from the Heatmap\n",
    "\n",
    "- **Consistent Closures:** Most countries display almost no fully open days from April onwards, reflecting widespread and prolonged school closures due to COVID-19, especially from April to December.\n",
    "- **Partial Openings:** Early months (February, March) for several countries (Brazil, Mexico) show some days with schools fully open, but this drops to zero or near zero subsequently.\n",
    "- **Diverse Recovery Patterns:** \n",
    "  - **Italy, France, Germany, China:** Show clusters where schools became fully open again, typically in the last quarter—suggesting phased or late reopening.\n",
    "  - **China:** Notably, most fully open days only appear from October through December, aligning with its pandemic trajectory.\n",
    "- **Hemispheric/Regional Differences:** Countries like Colombia, Argentina, and India also show limited reopenings, but usually much later or for short periods, if at all.\n",
    "- **No Full Opening:** Some countries (e.g., Argentina, India, Colombia) have virtually no months where schools were fully open for the entire month in 2020.\n",
    "\n",
    "### How to Interpret\n",
    "\n",
    "- **Darkest blue (low values, near zero):** Long closures or no fully open days.\n",
    "- **Dark red (high values):** Full or near-full reopening for long stretches.\n",
    "\n",
    "### What the Heatmap Tells Us\n",
    "\n",
    "The heatmap provides a **clear timeline of school reopening patterns** during the COVID-19 pandemic. Most countries experienced extended school closures with sparse reopening periods—often concentrated toward the year’s end or very brief intervals. The pattern supports the global narrative of sustained educational disruption in 2020.\n"
   ]
  }
 ],
 "metadata": {
  "kernelspec": {
   "display_name": "Python 3",
   "language": "python",
   "name": "python3"
  },
  "language_info": {
   "codemirror_mode": {
    "name": "ipython",
    "version": 3
   },
   "file_extension": ".py",
   "mimetype": "text/x-python",
   "name": "python",
   "nbconvert_exporter": "python",
   "pygments_lexer": "ipython3",
   "version": "3.13.5"
  }
 },
 "nbformat": 4,
 "nbformat_minor": 5
}
