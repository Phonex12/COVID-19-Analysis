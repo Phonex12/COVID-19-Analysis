{
 "cells": [
  {
   "cell_type": "markdown",
   "id": "96ecdd67",
   "metadata": {},
   "source": [
    "## **File 4 : Deaths Analysis of COVID-19**"
   ]
  },
  {
   "cell_type": "markdown",
   "id": "fb7d5816",
   "metadata": {},
   "source": [
    "Importing the Modules"
   ]
  },
  {
   "cell_type": "code",
   "execution_count": 1,
   "id": "7d007fe1",
   "metadata": {},
   "outputs": [],
   "source": [
    "import pandas as pd\n",
    "from matplotlib.ticker import FuncFormatter\n",
    "import seaborn as sns\n",
    "from matplotlib import pyplot as plt "
   ]
  },
  {
   "cell_type": "markdown",
   "id": "76691325",
   "metadata": {},
   "source": [
    "Creating the DataFrame"
   ]
  },
  {
   "cell_type": "code",
   "execution_count": 2,
   "id": "eb3f87d4",
   "metadata": {},
   "outputs": [],
   "source": [
    "df = pd.read_csv('final.csv')"
   ]
  },
  {
   "cell_type": "markdown",
   "id": "23e76907",
   "metadata": {},
   "source": [
    "Performing the cleanups"
   ]
  },
  {
   "cell_type": "code",
   "execution_count": 3,
   "id": "65f5d8c4",
   "metadata": {},
   "outputs": [],
   "source": [
    "df.drop(columns = ['Unnamed: 0.1','Unnamed: 0'],inplace=True)"
   ]
  },
  {
   "cell_type": "markdown",
   "id": "b8e0faca",
   "metadata": {},
   "source": [
    "Grouping the population and total_deths by location"
   ]
  },
  {
   "cell_type": "code",
   "execution_count": 4,
   "id": "33aeb3d4",
   "metadata": {},
   "outputs": [],
   "source": [
    "df_ratio = df.groupby('location').agg({\n",
    "    'total_deaths':'max',\n",
    "    'population':'max'\n",
    "})"
   ]
  },
  {
   "cell_type": "markdown",
   "id": "6a70bdf7",
   "metadata": {},
   "source": [
    "Dropping the unnecessory columns"
   ]
  },
  {
   "cell_type": "code",
   "execution_count": 5,
   "id": "abd0613a",
   "metadata": {},
   "outputs": [],
   "source": [
    "df_ratio.dropna(inplace=True)\n",
    "df_ratio['death_pct'] = df_ratio['total_deaths']/df_ratio['population']"
   ]
  },
  {
   "cell_type": "markdown",
   "id": "a1170e86",
   "metadata": {},
   "source": [
    "Getting the Death Ratio"
   ]
  },
  {
   "cell_type": "code",
   "execution_count": 6,
   "id": "a54af164",
   "metadata": {},
   "outputs": [],
   "source": [
    "df_ratio['death_pct'] = df_ratio['death_pct'] * 100"
   ]
  },
  {
   "cell_type": "markdown",
   "id": "0c7956a9",
   "metadata": {},
   "source": [
    "Rounding off the percentage to 2 decimal places"
   ]
  },
  {
   "cell_type": "code",
   "execution_count": 7,
   "id": "76081369",
   "metadata": {},
   "outputs": [],
   "source": [
    "df_ratio['death_pct'] = df_ratio['death_pct'].round(2)"
   ]
  },
  {
   "cell_type": "code",
   "execution_count": 8,
   "id": "7232692b",
   "metadata": {},
   "outputs": [
    {
     "data": {
      "text/html": [
       "<div>\n",
       "<style scoped>\n",
       "    .dataframe tbody tr th:only-of-type {\n",
       "        vertical-align: middle;\n",
       "    }\n",
       "\n",
       "    .dataframe tbody tr th {\n",
       "        vertical-align: top;\n",
       "    }\n",
       "\n",
       "    .dataframe thead th {\n",
       "        text-align: right;\n",
       "    }\n",
       "</style>\n",
       "<table border=\"1\" class=\"dataframe\">\n",
       "  <thead>\n",
       "    <tr style=\"text-align: right;\">\n",
       "      <th></th>\n",
       "      <th>total_deaths</th>\n",
       "      <th>population</th>\n",
       "      <th>death_pct</th>\n",
       "    </tr>\n",
       "    <tr>\n",
       "      <th>location</th>\n",
       "      <th></th>\n",
       "      <th></th>\n",
       "      <th></th>\n",
       "    </tr>\n",
       "  </thead>\n",
       "  <tbody>\n",
       "    <tr>\n",
       "      <th>Australia</th>\n",
       "      <td>25236.0</td>\n",
       "      <td>26177410</td>\n",
       "      <td>0.10</td>\n",
       "    </tr>\n",
       "    <tr>\n",
       "      <th>Brazil</th>\n",
       "      <td>702116.0</td>\n",
       "      <td>215313504</td>\n",
       "      <td>0.33</td>\n",
       "    </tr>\n",
       "    <tr>\n",
       "      <th>China</th>\n",
       "      <td>122304.0</td>\n",
       "      <td>1425887360</td>\n",
       "      <td>0.01</td>\n",
       "    </tr>\n",
       "    <tr>\n",
       "      <th>France</th>\n",
       "      <td>168091.0</td>\n",
       "      <td>67813000</td>\n",
       "      <td>0.25</td>\n",
       "    </tr>\n",
       "    <tr>\n",
       "      <th>Germany</th>\n",
       "      <td>174979.0</td>\n",
       "      <td>83369840</td>\n",
       "      <td>0.21</td>\n",
       "    </tr>\n",
       "    <tr>\n",
       "      <th>India</th>\n",
       "      <td>533623.0</td>\n",
       "      <td>1417173120</td>\n",
       "      <td>0.04</td>\n",
       "    </tr>\n",
       "    <tr>\n",
       "      <th>Italy</th>\n",
       "      <td>197307.0</td>\n",
       "      <td>59037472</td>\n",
       "      <td>0.33</td>\n",
       "    </tr>\n",
       "    <tr>\n",
       "      <th>Japan</th>\n",
       "      <td>74694.0</td>\n",
       "      <td>123951696</td>\n",
       "      <td>0.06</td>\n",
       "    </tr>\n",
       "    <tr>\n",
       "      <th>Russia</th>\n",
       "      <td>403188.0</td>\n",
       "      <td>144713312</td>\n",
       "      <td>0.28</td>\n",
       "    </tr>\n",
       "    <tr>\n",
       "      <th>South Korea</th>\n",
       "      <td>35934.0</td>\n",
       "      <td>51815808</td>\n",
       "      <td>0.07</td>\n",
       "    </tr>\n",
       "    <tr>\n",
       "      <th>Spain</th>\n",
       "      <td>121852.0</td>\n",
       "      <td>47558632</td>\n",
       "      <td>0.26</td>\n",
       "    </tr>\n",
       "    <tr>\n",
       "      <th>Turkey</th>\n",
       "      <td>101419.0</td>\n",
       "      <td>85341248</td>\n",
       "      <td>0.12</td>\n",
       "    </tr>\n",
       "    <tr>\n",
       "      <th>United States</th>\n",
       "      <td>1193165.0</td>\n",
       "      <td>338289856</td>\n",
       "      <td>0.35</td>\n",
       "    </tr>\n",
       "    <tr>\n",
       "      <th>Vietnam</th>\n",
       "      <td>43206.0</td>\n",
       "      <td>98186856</td>\n",
       "      <td>0.04</td>\n",
       "    </tr>\n",
       "  </tbody>\n",
       "</table>\n",
       "</div>"
      ],
      "text/plain": [
       "               total_deaths  population  death_pct\n",
       "location                                          \n",
       "Australia           25236.0    26177410       0.10\n",
       "Brazil             702116.0   215313504       0.33\n",
       "China              122304.0  1425887360       0.01\n",
       "France             168091.0    67813000       0.25\n",
       "Germany            174979.0    83369840       0.21\n",
       "India              533623.0  1417173120       0.04\n",
       "Italy              197307.0    59037472       0.33\n",
       "Japan               74694.0   123951696       0.06\n",
       "Russia             403188.0   144713312       0.28\n",
       "South Korea         35934.0    51815808       0.07\n",
       "Spain              121852.0    47558632       0.26\n",
       "Turkey             101419.0    85341248       0.12\n",
       "United States     1193165.0   338289856       0.35\n",
       "Vietnam             43206.0    98186856       0.04"
      ]
     },
     "execution_count": 8,
     "metadata": {},
     "output_type": "execute_result"
    }
   ],
   "source": [
    "df_ratio"
   ]
  },
  {
   "cell_type": "markdown",
   "id": "a88dcb8e",
   "metadata": {},
   "source": [
    "**Plotting the Data**"
   ]
  },
  {
   "cell_type": "code",
   "execution_count": 9,
   "id": "d30a2df3",
   "metadata": {},
   "outputs": [
    {
     "data": {
      "text/plain": [
       "['Solarize_Light2',\n",
       " '_classic_test_patch',\n",
       " '_mpl-gallery',\n",
       " '_mpl-gallery-nogrid',\n",
       " 'bmh',\n",
       " 'classic',\n",
       " 'dark_background',\n",
       " 'fast',\n",
       " 'fivethirtyeight',\n",
       " 'ggplot',\n",
       " 'grayscale',\n",
       " 'petroff10',\n",
       " 'seaborn-v0_8',\n",
       " 'seaborn-v0_8-bright',\n",
       " 'seaborn-v0_8-colorblind',\n",
       " 'seaborn-v0_8-dark',\n",
       " 'seaborn-v0_8-dark-palette',\n",
       " 'seaborn-v0_8-darkgrid',\n",
       " 'seaborn-v0_8-deep',\n",
       " 'seaborn-v0_8-muted',\n",
       " 'seaborn-v0_8-notebook',\n",
       " 'seaborn-v0_8-paper',\n",
       " 'seaborn-v0_8-pastel',\n",
       " 'seaborn-v0_8-poster',\n",
       " 'seaborn-v0_8-talk',\n",
       " 'seaborn-v0_8-ticks',\n",
       " 'seaborn-v0_8-white',\n",
       " 'seaborn-v0_8-whitegrid',\n",
       " 'tableau-colorblind10']"
      ]
     },
     "execution_count": 9,
     "metadata": {},
     "output_type": "execute_result"
    }
   ],
   "source": [
    "plt.style.available"
   ]
  },
  {
   "cell_type": "code",
   "execution_count": 10,
   "id": "26a2ca91",
   "metadata": {},
   "outputs": [
    {
     "data": {
      "text/html": [
       "<div>\n",
       "<style scoped>\n",
       "    .dataframe tbody tr th:only-of-type {\n",
       "        vertical-align: middle;\n",
       "    }\n",
       "\n",
       "    .dataframe tbody tr th {\n",
       "        vertical-align: top;\n",
       "    }\n",
       "\n",
       "    .dataframe thead th {\n",
       "        text-align: right;\n",
       "    }\n",
       "</style>\n",
       "<table border=\"1\" class=\"dataframe\">\n",
       "  <thead>\n",
       "    <tr style=\"text-align: right;\">\n",
       "      <th></th>\n",
       "      <th>total_deaths</th>\n",
       "      <th>population</th>\n",
       "      <th>death_pct</th>\n",
       "    </tr>\n",
       "    <tr>\n",
       "      <th>location</th>\n",
       "      <th></th>\n",
       "      <th></th>\n",
       "      <th></th>\n",
       "    </tr>\n",
       "  </thead>\n",
       "  <tbody>\n",
       "    <tr>\n",
       "      <th>Australia</th>\n",
       "      <td>25236.0</td>\n",
       "      <td>26177410</td>\n",
       "      <td>0.10</td>\n",
       "    </tr>\n",
       "    <tr>\n",
       "      <th>Brazil</th>\n",
       "      <td>702116.0</td>\n",
       "      <td>215313504</td>\n",
       "      <td>0.33</td>\n",
       "    </tr>\n",
       "    <tr>\n",
       "      <th>China</th>\n",
       "      <td>122304.0</td>\n",
       "      <td>1425887360</td>\n",
       "      <td>0.01</td>\n",
       "    </tr>\n",
       "    <tr>\n",
       "      <th>France</th>\n",
       "      <td>168091.0</td>\n",
       "      <td>67813000</td>\n",
       "      <td>0.25</td>\n",
       "    </tr>\n",
       "    <tr>\n",
       "      <th>Germany</th>\n",
       "      <td>174979.0</td>\n",
       "      <td>83369840</td>\n",
       "      <td>0.21</td>\n",
       "    </tr>\n",
       "    <tr>\n",
       "      <th>India</th>\n",
       "      <td>533623.0</td>\n",
       "      <td>1417173120</td>\n",
       "      <td>0.04</td>\n",
       "    </tr>\n",
       "    <tr>\n",
       "      <th>Italy</th>\n",
       "      <td>197307.0</td>\n",
       "      <td>59037472</td>\n",
       "      <td>0.33</td>\n",
       "    </tr>\n",
       "    <tr>\n",
       "      <th>Japan</th>\n",
       "      <td>74694.0</td>\n",
       "      <td>123951696</td>\n",
       "      <td>0.06</td>\n",
       "    </tr>\n",
       "    <tr>\n",
       "      <th>Russia</th>\n",
       "      <td>403188.0</td>\n",
       "      <td>144713312</td>\n",
       "      <td>0.28</td>\n",
       "    </tr>\n",
       "    <tr>\n",
       "      <th>South Korea</th>\n",
       "      <td>35934.0</td>\n",
       "      <td>51815808</td>\n",
       "      <td>0.07</td>\n",
       "    </tr>\n",
       "    <tr>\n",
       "      <th>Spain</th>\n",
       "      <td>121852.0</td>\n",
       "      <td>47558632</td>\n",
       "      <td>0.26</td>\n",
       "    </tr>\n",
       "    <tr>\n",
       "      <th>Turkey</th>\n",
       "      <td>101419.0</td>\n",
       "      <td>85341248</td>\n",
       "      <td>0.12</td>\n",
       "    </tr>\n",
       "    <tr>\n",
       "      <th>United States</th>\n",
       "      <td>1193165.0</td>\n",
       "      <td>338289856</td>\n",
       "      <td>0.35</td>\n",
       "    </tr>\n",
       "    <tr>\n",
       "      <th>Vietnam</th>\n",
       "      <td>43206.0</td>\n",
       "      <td>98186856</td>\n",
       "      <td>0.04</td>\n",
       "    </tr>\n",
       "  </tbody>\n",
       "</table>\n",
       "</div>"
      ],
      "text/plain": [
       "               total_deaths  population  death_pct\n",
       "location                                          \n",
       "Australia           25236.0    26177410       0.10\n",
       "Brazil             702116.0   215313504       0.33\n",
       "China              122304.0  1425887360       0.01\n",
       "France             168091.0    67813000       0.25\n",
       "Germany            174979.0    83369840       0.21\n",
       "India              533623.0  1417173120       0.04\n",
       "Italy              197307.0    59037472       0.33\n",
       "Japan               74694.0   123951696       0.06\n",
       "Russia             403188.0   144713312       0.28\n",
       "South Korea         35934.0    51815808       0.07\n",
       "Spain              121852.0    47558632       0.26\n",
       "Turkey             101419.0    85341248       0.12\n",
       "United States     1193165.0   338289856       0.35\n",
       "Vietnam             43206.0    98186856       0.04"
      ]
     },
     "execution_count": 10,
     "metadata": {},
     "output_type": "execute_result"
    }
   ],
   "source": [
    "df_ratio"
   ]
  },
  {
   "cell_type": "markdown",
   "id": "36375bd3",
   "metadata": {},
   "source": [
    "**Plotting the Data**"
   ]
  },
  {
   "cell_type": "code",
   "execution_count": 42,
   "id": "b9ea5280",
   "metadata": {},
   "outputs": [
    {
     "data": {
      "image/png": "[encoded data removed]",
      "text/plain": [
       "<Figure size 800x560 with 1 Axes>"
      ]
     },
     "metadata": {},
     "output_type": "display_data"
    }
   ],
   "source": [
    "plt.style.use('seaborn-v0_8')\n",
    "plt.figure(figsize=(10,7))\n",
    "sns.barplot(data = df_ratio,x = 'location', y = 'total_deaths',hue = 'total_deaths',palette='dark')\n",
    "plt.gca().yaxis.set_major_formatter(FuncFormatter(lambda x,_ : f'{int(x):,}'))\n",
    "plt.legend().set_visible(False)\n",
    "plt.title(\"Total Deaths per Country\",fontsize =15,color = 'Black')\n",
    "plt.xlabel('Names of Country')\n",
    "plt.ylabel('Number of People')\n",
    "plt.xticks(rotation = 75,fontsize = 13)\n",
    "plt.yticks(fontsize = 12)\n",
    "plt.show()"
   ]
  }
 ],
 "metadata": {
  "kernelspec": {
   "display_name": "Python 3",
   "language": "python",
   "name": "python3"
  },
  "language_info": {
   "codemirror_mode": {
    "name": "ipython",
    "version": 3
   },
   "file_extension": ".py",
   "mimetype": "text/x-python",
   "name": "python",
   "nbconvert_exporter": "python",
   "pygments_lexer": "ipython3",
   "version": "3.13.5"
  }
 },
 "nbformat": 4,
 "nbformat_minor": 5
}
